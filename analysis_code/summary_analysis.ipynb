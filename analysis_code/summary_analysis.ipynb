{
 "cells": [
  {
   "cell_type": "markdown",
   "metadata": {},
   "source": [
    "An Analysis of the output from Survey Monkey"
   ]
  },
  {
   "cell_type": "code",
   "execution_count": 25,
   "metadata": {
    "collapsed": false
   },
   "outputs": [],
   "source": [
    "from matplotlib import pyplot as plt\n",
    "import numpy\n",
    "import csv\n",
    "from __future__ import print_function\n",
    "%matplotlib inline"
   ]
  },
  {
   "cell_type": "code",
   "execution_count": null,
   "metadata": {
    "collapsed": true
   },
   "outputs": [],
   "source": []
  },
  {
   "cell_type": "code",
   "execution_count": 49,
   "metadata": {
    "collapsed": true
   },
   "outputs": [],
   "source": [
    "in_filename = '../survey_data/summary_results.csv'\n",
    "modified_filename = '../survey_data/summary_results_mod.csv'"
   ]
  },
  {
   "cell_type": "code",
   "execution_count": 50,
   "metadata": {
    "collapsed": false
   },
   "outputs": [],
   "source": [
    "fi = open(in_filename, 'rb')\n",
    "data = fi.read()\n",
    "fi.close()\n",
    "fo = open(modified_filename, 'wb')\n",
    "fo.write(data.replace('\\x00', ''))\n",
    "fo.close()"
   ]
  },
  {
   "cell_type": "code",
   "execution_count": 52,
   "metadata": {
    "collapsed": false
   },
   "outputs": [],
   "source": [
    "file_handle = open(modified_filename, 'rb')\n",
    "my_csv = csv.reader(file_handle, dialect = 'excel')\n",
    "\n",
    "all_lines = []\n",
    "\n",
    "for row in my_csv:\n",
    "    try:\n",
    "        all_lines.append(row)\n",
    "    except:\n",
    "        print('Error reading line')\n",
    "file_handle.close()"
   ]
  },
  {
   "cell_type": "code",
   "execution_count": 53,
   "metadata": {
    "collapsed": false
   },
   "outputs": [],
   "source": [
    "q_line_text = 'Q'\n",
    "q_locs = []\n",
    "for i in range(len(all_lines)):\n",
    "    if len(all_lines[i]) == 1:\n",
    "        if q_line_text in all_lines[i][0]:\n",
    "            q_locs.append(i)"
   ]
  },
  {
   "cell_type": "code",
   "execution_count": 57,
   "metadata": {
    "collapsed": false
   },
   "outputs": [
    {
     "name": "stdout",
     "output_type": "stream",
     "text": [
      "2 Q1. Have you ever used Py-ART before?\n",
      "12 Q2. Would you consider yourself\n",
      "23 Q3. First, Some information about you, what is your role in your organization?\n",
      "39 Q4. What type of organization do you belong to or study in?\n",
      "55 Q5. Have you Heard of Py-ART?\n",
      "65 Q6. Rank these in order of how likely they are to get you interested in using Py-ART\n",
      "86 Q7. What features would encourage you to use Py-ART?\n",
      "97 Q8. Does anyone in your team or institution use Py-ART?\n",
      "108 Q9. Comment on barriers to you using Py-ART\n",
      "122 Q10. First, Some information about you, what is your role in your organization?\n",
      "138 Q11. What type of organization do you belong to or study in?\n",
      "154 Q12. Have you Heard of Py-ART?\n",
      "164 Q13. Rank these in order of how likely they are to get you interested in using Py-ART\n",
      "185 Q14. What features would encourage you to use Py-ART?\n",
      "196 Q15. Does anyone in your team or institution use Py-ART?\n",
      "207 Q16. Comment on barriers to you using Py-ART\n",
      "221 Q17. First, Some information about you, what is your role in your organization?\n",
      "237 Q18. What type of organization do you belong to or study in?\n",
      "253 Q19. Have you Heard of Py-ART?\n",
      "263 Q20. Rank these in order of how likely they are to get you interested in using Py-ART\n",
      "284 Q21. What features would encourage you to use Py-ART?\n",
      "295 Q22. Does anyone in your team or institution use Py-ART?\n",
      "306 Q23. Comment on barriers to you using Py-ART\n",
      "320 Q24. Would you consider yourself\n",
      "331 Q25. First, Some information about you, what is your role in your organization?\n",
      "347 Q26. What type of organization do you belong to or study in?\n",
      "363 Q27. How long have you been using Py-ART?\n",
      "375 Q28. OS?\n",
      "386 Q29. Install method\n",
      "398 Q30. Favorite feature\n",
      "415 Q31. Rank possible new features\n",
      "436 Q32. What killer new feature would you like to see in Py-ART?\n",
      "447 Q33. Have you ever contributed to Py-ART?\n",
      "459 Q34. What barriers are there to you being a contributor? (Hit N/A if you already are!)\n",
      "472 Q35. First, Some information about you, what is your role in your organization?\n",
      "488 Q36. What type of organization do you belong to or study in?\n",
      "504 Q37. How long have you been using Py-ART?\n",
      "516 Q38. OS?\n",
      "527 Q39. Install method\n",
      "539 Q40. Favorite feature\n",
      "556 Q41. Rank possible new features\n",
      "577 Q42. What killer new feature would you like to see in Py-ART?\n",
      "588 Q43. Have you ever contributed to Py-ART?\n",
      "600 Q44. What barriers are there to you being a contributor? (Hit N/A if you already are!)\n",
      "613 Q45. First, Some information about you, what is your role in your organization?\n",
      "629 Q46. What type of organization do you belong to or study in?\n",
      "645 Q47. How long have you been using Py-ART?\n",
      "657 Q48. OS?\n",
      "668 Q49. Install method\n",
      "680 Q50. Favorite feature\n",
      "697 Q51. Rank possible new features\n",
      "718 Q52. What killer new feature would you like to see in Py-ART?\n",
      "729 Q53. Have you ever contributed to Py-ART?\n",
      "741 Q54. What barriers are there to you being a contributor? (Hit N/A if you already are!)\n",
      "754 Q55. Thank you for your participation! Please leave any free form comments here.\n"
     ]
    }
   ],
   "source": [
    "for q_loc in q_locs:\n",
    "    print(q_loc, all_lines[q_loc][0])"
   ]
  },
  {
   "cell_type": "code",
   "execution_count": 22,
   "metadata": {
    "collapsed": false
   },
   "outputs": [
    {
     "name": "stdout",
     "output_type": "stream",
     "text": [
      "\u0000\"\u0000Q\u00001\u00009\u0000.\u0000 \u0000H\u0000a\u0000v\u0000e\u0000 \u0000y\u0000o\u0000u\u0000 \u0000H\u0000e\u0000a\u0000r\u0000d\u0000 \u0000o\u0000f\u0000 \u0000P\u0000y\u0000-\u0000A\u0000R\u0000T\u0000?\u0000\"\u0000\r",
      "\u0000\n",
      "\n"
     ]
    }
   ],
   "source": [
    "print(all_lines[q_locs[20]])"
   ]
  },
  {
   "cell_type": "code",
   "execution_count": 24,
   "metadata": {
    "collapsed": false
   },
   "outputs": [
    {
     "data": {
      "text/plain": [
       "'\\x00\"\\x00Q\\x001\\x009\\x00.\\x00 \\x00H\\x00a\\x00v\\x00e\\x00 \\x00y\\x00o\\x00u\\x00 \\x00H\\x00e\\x00a\\x00r\\x00d\\x00 \\x00o\\x00f\\x00 \\x00P\\x00y\\x00-\\x00A\\x00R\\x00T\\x00?\\x00\"\\x00\\r\\x00\\n'"
      ]
     },
     "execution_count": 24,
     "metadata": {},
     "output_type": "execute_result"
    }
   ],
   "source": [
    "all_lines[q_locs[20]]"
   ]
  },
  {
   "cell_type": "code",
   "execution_count": null,
   "metadata": {
    "collapsed": true
   },
   "outputs": [],
   "source": []
  }
 ],
 "metadata": {
  "kernelspec": {
   "display_name": "Python 2",
   "language": "python",
   "name": "python2"
  },
  "language_info": {
   "codemirror_mode": {
    "name": "ipython",
    "version": 2
   },
   "file_extension": ".py",
   "mimetype": "text/x-python",
   "name": "python",
   "nbconvert_exporter": "python",
   "pygments_lexer": "ipython2",
   "version": "2.7.11"
  }
 },
 "nbformat": 4,
 "nbformat_minor": 0
}
